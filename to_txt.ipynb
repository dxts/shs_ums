{
 "cells": [
  {
   "cell_type": "code",
   "execution_count": 22,
   "metadata": {},
   "outputs": [],
   "source": [
    "import pandas as pd\n",
    "from tqdm import tqdm\n",
    "import re\n"
   ]
  },
  {
   "cell_type": "code",
   "execution_count": 23,
   "metadata": {},
   "outputs": [],
   "source": [
    "# parquet_info = dict(\n",
    "#     filename='nzz_2017_2021_full.parquet',\n",
    "#     txt_folder='nzz_2017_2021_filtered',\n",
    "#     source='nzz')\n",
    "\n",
    "# parquet_info = dict(\n",
    "#     filename='le_temps_2017_2021_full.parquet',\n",
    "#     txt_folder='le_temps_2017_2021_filtered',\n",
    "#     source='letemps')\n",
    "\n",
    "parquet_info = dict(\n",
    "    filename='tagesanzeiger_2017_2021_full.parquet',\n",
    "    txt_folder='tagesanzeiger_2017_2021_filtered',\n",
    "    source='tagz')\n"
   ]
  },
  {
   "cell_type": "code",
   "execution_count": 24,
   "metadata": {},
   "outputs": [],
   "source": [
    "raw_df = pd.read_parquet(parquet_info['filename'])\n"
   ]
  },
  {
   "cell_type": "code",
   "execution_count": 25,
   "metadata": {},
   "outputs": [
    {
     "name": "stdout",
     "output_type": "stream",
     "text": [
      "109230\n"
     ]
    },
    {
     "data": {
      "text/html": [
       "<div>\n",
       "<style scoped>\n",
       "    .dataframe tbody tr th:only-of-type {\n",
       "        vertical-align: middle;\n",
       "    }\n",
       "\n",
       "    .dataframe tbody tr th {\n",
       "        vertical-align: top;\n",
       "    }\n",
       "\n",
       "    .dataframe thead th {\n",
       "        text-align: right;\n",
       "    }\n",
       "</style>\n",
       "<table border=\"1\" class=\"dataframe\">\n",
       "  <thead>\n",
       "    <tr style=\"text-align: right;\">\n",
       "      <th></th>\n",
       "      <th>id</th>\n",
       "      <th>article_title</th>\n",
       "      <th>article_subheading</th>\n",
       "      <th>article_author</th>\n",
       "      <th>article_content</th>\n",
       "      <th>date</th>\n",
       "      <th>pdf_url</th>\n",
       "      <th>pdf_file_path</th>\n",
       "      <th>pdf_page</th>\n",
       "      <th>article_html</th>\n",
       "    </tr>\n",
       "  </thead>\n",
       "  <tbody>\n",
       "    <tr>\n",
       "      <th>69164</th>\n",
       "      <td>0b1192330da178c5d32d53b957cd1d7f</td>\n",
       "      <td>Mama rät Boris zur Malerei</td>\n",
       "      <td>Debatte</td>\n",
       "      <td>Peter Nonnenmacher</td>\n",
       "      <td>Charlotte Johnson-Wahl Die Mutter des britisch...</td>\n",
       "      <td>14.10.2019</td>\n",
       "      <td></td>\n",
       "      <td></td>\n",
       "      <td></td>\n",
       "      <td>&lt;div class=\"ld\"&gt;&lt;p class=\"p\"&gt;Charlotte Johnson...</td>\n",
       "    </tr>\n",
       "  </tbody>\n",
       "</table>\n",
       "</div>"
      ],
      "text/plain": [
       "                                     id               article_title  \\\n",
       "69164  0b1192330da178c5d32d53b957cd1d7f  Mama rät Boris zur Malerei   \n",
       "\n",
       "      article_subheading      article_author  \\\n",
       "69164            Debatte  Peter Nonnenmacher   \n",
       "\n",
       "                                         article_content        date pdf_url  \\\n",
       "69164  Charlotte Johnson-Wahl Die Mutter des britisch...  14.10.2019           \n",
       "\n",
       "      pdf_file_path pdf_page  \\\n",
       "69164                          \n",
       "\n",
       "                                            article_html  \n",
       "69164  <div class=\"ld\"><p class=\"p\">Charlotte Johnson...  "
      ]
     },
     "execution_count": 25,
     "metadata": {},
     "output_type": "execute_result"
    }
   ],
   "source": [
    "raw_df = raw_df.reset_index(drop=True)\n",
    "print(raw_df.count()[0])\n",
    "raw_df.sample(1)\n"
   ]
  },
  {
   "cell_type": "code",
   "execution_count": 26,
   "metadata": {},
   "outputs": [
    {
     "name": "stdout",
     "output_type": "stream",
     "text": [
      "109217\n"
     ]
    },
    {
     "data": {
      "text/html": [
       "<div>\n",
       "<style scoped>\n",
       "    .dataframe tbody tr th:only-of-type {\n",
       "        vertical-align: middle;\n",
       "    }\n",
       "\n",
       "    .dataframe tbody tr th {\n",
       "        vertical-align: top;\n",
       "    }\n",
       "\n",
       "    .dataframe thead th {\n",
       "        text-align: right;\n",
       "    }\n",
       "</style>\n",
       "<table border=\"1\" class=\"dataframe\">\n",
       "  <thead>\n",
       "    <tr style=\"text-align: right;\">\n",
       "      <th></th>\n",
       "      <th>id</th>\n",
       "      <th>article_title</th>\n",
       "      <th>article_subheading</th>\n",
       "      <th>article_author</th>\n",
       "      <th>article_content</th>\n",
       "      <th>date</th>\n",
       "      <th>pdf_url</th>\n",
       "      <th>pdf_file_path</th>\n",
       "      <th>pdf_page</th>\n",
       "      <th>article_html</th>\n",
       "    </tr>\n",
       "  </thead>\n",
       "  <tbody>\n",
       "    <tr>\n",
       "      <th>14885</th>\n",
       "      <td>daa9441ed5c8db86211202a268b6cb86</td>\n",
       "      <td>Verzweifelte Appelle an den Präsidenten</td>\n",
       "      <td>International</td>\n",
       "      <td>Cathrin Kahlweit</td>\n",
       "      <td>Die Massenproteste in Ungarn haben nichts genü...</td>\n",
       "      <td>11.04.2017</td>\n",
       "      <td></td>\n",
       "      <td></td>\n",
       "      <td></td>\n",
       "      <td>&lt;div class=\"ld\"&gt;&lt;p class=\"p\"&gt;Die Massenprotest...</td>\n",
       "    </tr>\n",
       "  </tbody>\n",
       "</table>\n",
       "</div>"
      ],
      "text/plain": [
       "                                     id  \\\n",
       "14885  daa9441ed5c8db86211202a268b6cb86   \n",
       "\n",
       "                                 article_title article_subheading  \\\n",
       "14885  Verzweifelte Appelle an den Präsidenten      International   \n",
       "\n",
       "         article_author                                    article_content  \\\n",
       "14885  Cathrin Kahlweit  Die Massenproteste in Ungarn haben nichts genü...   \n",
       "\n",
       "             date pdf_url pdf_file_path pdf_page  \\\n",
       "14885  11.04.2017                                  \n",
       "\n",
       "                                            article_html  \n",
       "14885  <div class=\"ld\"><p class=\"p\">Die Massenprotest...  "
      ]
     },
     "execution_count": 26,
     "metadata": {},
     "output_type": "execute_result"
    }
   ],
   "source": [
    "raw_df = raw_df.drop_duplicates(subset='article_content')\n",
    "\n",
    "print(raw_df.count()[0])\n",
    "raw_df.sample(1)\n"
   ]
  },
  {
   "cell_type": "code",
   "execution_count": 27,
   "metadata": {},
   "outputs": [
    {
     "name": "stdout",
     "output_type": "stream",
     "text": [
      "899\n"
     ]
    },
    {
     "data": {
      "text/html": [
       "<div>\n",
       "<style scoped>\n",
       "    .dataframe tbody tr th:only-of-type {\n",
       "        vertical-align: middle;\n",
       "    }\n",
       "\n",
       "    .dataframe tbody tr th {\n",
       "        vertical-align: top;\n",
       "    }\n",
       "\n",
       "    .dataframe thead th {\n",
       "        text-align: right;\n",
       "    }\n",
       "</style>\n",
       "<table border=\"1\" class=\"dataframe\">\n",
       "  <thead>\n",
       "    <tr style=\"text-align: right;\">\n",
       "      <th></th>\n",
       "      <th>id</th>\n",
       "      <th>article_title</th>\n",
       "      <th>article_subheading</th>\n",
       "      <th>article_author</th>\n",
       "      <th>article_content</th>\n",
       "      <th>date</th>\n",
       "      <th>pdf_url</th>\n",
       "      <th>pdf_file_path</th>\n",
       "      <th>pdf_page</th>\n",
       "      <th>article_html</th>\n",
       "    </tr>\n",
       "  </thead>\n",
       "  <tbody>\n",
       "    <tr>\n",
       "      <th>68105</th>\n",
       "      <td>1dd37a29dc6c28a34a08620ddcbbdc27</td>\n",
       "      <td>Rentenalter, Klima, Gesundheit, EU: So ticken ...</td>\n",
       "      <td>Zürich</td>\n",
       "      <td>zet / Zemp Thomas,rar / Roth Rafaela,sip / Sie...</td>\n",
       "      <td>Wahlen Drei Frauen und zwei Männer fordern die...</td>\n",
       "      <td>27.09.2019</td>\n",
       "      <td></td>\n",
       "      <td></td>\n",
       "      <td></td>\n",
       "      <td>&lt;div class=\"ld\"&gt;&lt;p class=\"p\"&gt;Wahlen Drei Fraue...</td>\n",
       "    </tr>\n",
       "  </tbody>\n",
       "</table>\n",
       "</div>"
      ],
      "text/plain": [
       "                                     id  \\\n",
       "68105  1dd37a29dc6c28a34a08620ddcbbdc27   \n",
       "\n",
       "                                           article_title article_subheading  \\\n",
       "68105  Rentenalter, Klima, Gesundheit, EU: So ticken ...             Zürich   \n",
       "\n",
       "                                          article_author  \\\n",
       "68105  zet / Zemp Thomas,rar / Roth Rafaela,sip / Sie...   \n",
       "\n",
       "                                         article_content        date pdf_url  \\\n",
       "68105  Wahlen Drei Frauen und zwei Männer fordern die...  27.09.2019           \n",
       "\n",
       "      pdf_file_path pdf_page  \\\n",
       "68105                          \n",
       "\n",
       "                                            article_html  \n",
       "68105  <div class=\"ld\"><p class=\"p\">Wahlen Drei Fraue...  "
      ]
     },
     "execution_count": 27,
     "metadata": {},
     "output_type": "execute_result"
    }
   ],
   "source": [
    "df = raw_df[ \n",
    "    (raw_df['article_content'].str.findall(r'(klimawandel|klimaschutz|globale erwärmung|changement climatique|protection climatique|réchauffement climatique|climate change|climate protection|global warming|co2)', flags=re.IGNORECASE).apply(lambda arr: len(arr) >= 3))\n",
    "    & (raw_df['article_content'].str.count(' ') >= 500)\n",
    "]\n",
    "\n",
    "print(df.count()[0])\n",
    "df.sample(1)\n"
   ]
  },
  {
   "cell_type": "code",
   "execution_count": 28,
   "metadata": {},
   "outputs": [
    {
     "name": "stdout",
     "output_type": "stream",
     "text": [
      "899\n"
     ]
    },
    {
     "name": "stderr",
     "output_type": "stream",
     "text": [
      "<ipython-input-28-c6e7afb4cc83>:1: SettingWithCopyWarning: \n",
      "A value is trying to be set on a copy of a slice from a DataFrame.\n",
      "Try using .loc[row_indexer,col_indexer] = value instead\n",
      "\n",
      "See the caveats in the documentation: https://pandas.pydata.org/pandas-docs/stable/user_guide/indexing.html#returning-a-view-versus-a-copy\n",
      "  df['date'] = pd.to_datetime(df['date'])\n"
     ]
    },
    {
     "data": {
      "text/html": [
       "<div>\n",
       "<style scoped>\n",
       "    .dataframe tbody tr th:only-of-type {\n",
       "        vertical-align: middle;\n",
       "    }\n",
       "\n",
       "    .dataframe tbody tr th {\n",
       "        vertical-align: top;\n",
       "    }\n",
       "\n",
       "    .dataframe thead th {\n",
       "        text-align: right;\n",
       "    }\n",
       "</style>\n",
       "<table border=\"1\" class=\"dataframe\">\n",
       "  <thead>\n",
       "    <tr style=\"text-align: right;\">\n",
       "      <th></th>\n",
       "      <th>id</th>\n",
       "      <th>article_title</th>\n",
       "      <th>article_subheading</th>\n",
       "      <th>article_author</th>\n",
       "      <th>article_content</th>\n",
       "      <th>date</th>\n",
       "      <th>pdf_url</th>\n",
       "      <th>pdf_file_path</th>\n",
       "      <th>pdf_page</th>\n",
       "      <th>article_html</th>\n",
       "    </tr>\n",
       "  </thead>\n",
       "  <tbody>\n",
       "    <tr>\n",
       "      <th>84531</th>\n",
       "      <td>f52807e7efb06122033b9aea4e3102a1</td>\n",
       "      <td>Klimapositiv – was bedeutet das?</td>\n",
       "      <td>Wissen</td>\n",
       "      <td>Martin Läubli,ml / Lerf Matthias</td>\n",
       "      <td>CO2 aus der Luft speichern Die Schweiz soll bi...</td>\n",
       "      <td>2020-07-23</td>\n",
       "      <td></td>\n",
       "      <td></td>\n",
       "      <td></td>\n",
       "      <td>&lt;div class=\"ld\"&gt;&lt;p class=\"p\"&gt;CO2 aus der Luft ...</td>\n",
       "    </tr>\n",
       "  </tbody>\n",
       "</table>\n",
       "</div>"
      ],
      "text/plain": [
       "                                     id                     article_title  \\\n",
       "84531  f52807e7efb06122033b9aea4e3102a1  Klimapositiv – was bedeutet das?   \n",
       "\n",
       "      article_subheading                    article_author  \\\n",
       "84531             Wissen  Martin Läubli,ml / Lerf Matthias   \n",
       "\n",
       "                                         article_content       date pdf_url  \\\n",
       "84531  CO2 aus der Luft speichern Die Schweiz soll bi... 2020-07-23           \n",
       "\n",
       "      pdf_file_path pdf_page  \\\n",
       "84531                          \n",
       "\n",
       "                                            article_html  \n",
       "84531  <div class=\"ld\"><p class=\"p\">CO2 aus der Luft ...  "
      ]
     },
     "execution_count": 28,
     "metadata": {},
     "output_type": "execute_result"
    }
   ],
   "source": [
    "df['date'] = pd.to_datetime(df['date'])\n",
    "\n",
    "# df = df[df['date'] > '01.01.2020']\n",
    "\n",
    "print(df.count()[0])\n",
    "df.sample(1)"
   ]
  },
  {
   "cell_type": "code",
   "execution_count": 29,
   "metadata": {},
   "outputs": [
    {
     "name": "stderr",
     "output_type": "stream",
     "text": [
      "899it [00:03, 257.58it/s]\n"
     ]
    }
   ],
   "source": [
    "for index, row in tqdm(df.iterrows()):\n",
    "    text = f\"{row.article_title} \\n{row.article_subheading} \\n{row.article_author} \\n{row.article_content}\"\n",
    "    filename = f\"./{parquet_info['txt_folder']}/{row.date.strftime('%d.%m.%Y')} - {f'unknown{index}' if (row.article_author == '') else row.article_author.replace('/', '_')} - {parquet_info['source']} - NEWSPAPERARTICLE.txt\"\n",
    "    with open(filename, 'w') as f:\n",
    "        f.write(text)\n"
   ]
  },
  {
   "cell_type": "code",
   "execution_count": 30,
   "metadata": {},
   "outputs": [
    {
     "data": {
      "text/html": [
       "<div>\n",
       "<style scoped>\n",
       "    .dataframe tbody tr th:only-of-type {\n",
       "        vertical-align: middle;\n",
       "    }\n",
       "\n",
       "    .dataframe tbody tr th {\n",
       "        vertical-align: top;\n",
       "    }\n",
       "\n",
       "    .dataframe thead th {\n",
       "        text-align: right;\n",
       "    }\n",
       "</style>\n",
       "<table border=\"1\" class=\"dataframe\">\n",
       "  <thead>\n",
       "    <tr style=\"text-align: right;\">\n",
       "      <th></th>\n",
       "      <th>id</th>\n",
       "      <th>article_title</th>\n",
       "      <th>article_subheading</th>\n",
       "      <th>article_author</th>\n",
       "      <th>article_content</th>\n",
       "      <th>date</th>\n",
       "      <th>pdf_url</th>\n",
       "      <th>pdf_file_path</th>\n",
       "      <th>pdf_page</th>\n",
       "      <th>article_html</th>\n",
       "    </tr>\n",
       "  </thead>\n",
       "  <tbody>\n",
       "    <tr>\n",
       "      <th>83714</th>\n",
       "      <td>fe2521a3d22db8f849fa624c0204ea70</td>\n",
       "      <td>Noch schlimmer als letztes Jahr</td>\n",
       "      <td>Wissen</td>\n",
       "      <td>Martin Läubli</td>\n",
       "      <td>Feuer in der Arktis Die neusten Daten zeigen e...</td>\n",
       "      <td>2020-08-07</td>\n",
       "      <td></td>\n",
       "      <td></td>\n",
       "      <td></td>\n",
       "      <td>&lt;div class=\"ld\"&gt;&lt;p class=\"p\"&gt;Feuer in der Arkt...</td>\n",
       "    </tr>\n",
       "  </tbody>\n",
       "</table>\n",
       "</div>"
      ],
      "text/plain": [
       "                                     id                    article_title  \\\n",
       "83714  fe2521a3d22db8f849fa624c0204ea70  Noch schlimmer als letztes Jahr   \n",
       "\n",
       "      article_subheading article_author  \\\n",
       "83714             Wissen  Martin Läubli   \n",
       "\n",
       "                                         article_content       date pdf_url  \\\n",
       "83714  Feuer in der Arktis Die neusten Daten zeigen e... 2020-08-07           \n",
       "\n",
       "      pdf_file_path pdf_page  \\\n",
       "83714                          \n",
       "\n",
       "                                            article_html  \n",
       "83714  <div class=\"ld\"><p class=\"p\">Feuer in der Arkt...  "
      ]
     },
     "execution_count": 30,
     "metadata": {},
     "output_type": "execute_result"
    }
   ],
   "source": [
    "df.sample(1)"
   ]
  },
  {
   "cell_type": "markdown",
   "metadata": {},
   "source": [
    "---\n",
    "---\n",
    "---"
   ]
  }
 ],
 "metadata": {
  "interpreter": {
   "hash": "580633061612762a579754f525e40c08733baa13c4a07bd71e2f9d264c209874"
  },
  "kernelspec": {
   "display_name": "Python 3.8.12 ('ada')",
   "language": "python",
   "name": "python3"
  },
  "language_info": {
   "codemirror_mode": {
    "name": "ipython",
    "version": 3
   },
   "file_extension": ".py",
   "mimetype": "text/x-python",
   "name": "python",
   "nbconvert_exporter": "python",
   "pygments_lexer": "ipython3",
   "version": "3.8.12"
  },
  "orig_nbformat": 4
 },
 "nbformat": 4,
 "nbformat_minor": 2
}
